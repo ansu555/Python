{
 "cells": [
  {
   "cell_type": "markdown",
   "id": "d7703a64-9b43-49c5-8fa0-91d7fb60a157",
   "metadata": {},
   "source": [
    "# List"
   ]
  },
  {
   "cell_type": "code",
   "execution_count": 5,
   "id": "7b58fd6f-5f1a-494e-9579-66516ab3c034",
   "metadata": {},
   "outputs": [
    {
     "name": "stdout",
     "output_type": "stream",
     "text": [
      "[1, 2, 3, 4]\n"
     ]
    }
   ],
   "source": [
    "my_list = [ 1 , 2 , 3, 4 ]\n",
    "print(my_list)"
   ]
  },
  {
   "cell_type": "code",
   "execution_count": 6,
   "id": "77cbc668-8e4b-49e1-a79a-6e7dec8fcb76",
   "metadata": {},
   "outputs": [
    {
     "data": {
      "text/plain": [
       "4"
      ]
     },
     "execution_count": 6,
     "metadata": {},
     "output_type": "execute_result"
    }
   ],
   "source": [
    "len(my_list)"
   ]
  },
  {
   "cell_type": "markdown",
   "id": "db535688-1f21-4304-8884-b1dd15ac9b6e",
   "metadata": {},
   "source": [
    "# sets"
   ]
  },
  {
   "cell_type": "code",
   "execution_count": 7,
   "id": "97c62cfb-2948-4988-99f5-b6ca98b659ac",
   "metadata": {},
   "outputs": [],
   "source": [
    "my_set = {1,2,3,4}"
   ]
  },
  {
   "cell_type": "code",
   "execution_count": 8,
   "id": "0737a8f8-a557-404f-bfc1-88a0ab75733a",
   "metadata": {},
   "outputs": [
    {
     "name": "stdout",
     "output_type": "stream",
     "text": [
      "[1, 2, 3, 4]\n"
     ]
    }
   ],
   "source": [
    "print(my_list)"
   ]
  },
  {
   "cell_type": "code",
   "execution_count": 9,
   "id": "8de63bb8-dff1-43a2-942d-250063265b89",
   "metadata": {},
   "outputs": [
    {
     "data": {
      "text/plain": [
       "set"
      ]
     },
     "execution_count": 9,
     "metadata": {},
     "output_type": "execute_result"
    }
   ],
   "source": [
    "type(my_set)"
   ]
  },
  {
   "cell_type": "code",
   "execution_count": 10,
   "id": "aced316c-b946-4baf-9dcc-19b234544a4b",
   "metadata": {},
   "outputs": [
    {
     "data": {
      "text/plain": [
       "4"
      ]
     },
     "execution_count": 10,
     "metadata": {},
     "output_type": "execute_result"
    }
   ],
   "source": [
    "len(my_set)"
   ]
  },
  {
   "cell_type": "code",
   "execution_count": 11,
   "id": "15fc7816-76e2-4112-b441-dc00e68dc19f",
   "metadata": {},
   "outputs": [],
   "source": [
    "my_set = {1,1,2,2}"
   ]
  },
  {
   "cell_type": "code",
   "execution_count": 12,
   "id": "a962c908-8a17-4b45-aac5-16ff00986bf6",
   "metadata": {},
   "outputs": [],
   "source": [
    "my_set2 = {1 , 1 , 3 , 4 }"
   ]
  },
  {
   "cell_type": "code",
   "execution_count": 13,
   "id": "e3c28692-a051-42d8-b468-d40fcd89d620",
   "metadata": {},
   "outputs": [
    {
     "name": "stdout",
     "output_type": "stream",
     "text": [
      "{1, 2}\n",
      "{1, 3, 4}\n"
     ]
    }
   ],
   "source": [
    "print(my_set)\n",
    "print(my_set2)"
   ]
  },
  {
   "cell_type": "code",
   "execution_count": 14,
   "id": "05757471-6308-4a59-9a70-6ceb7fdcc22e",
   "metadata": {},
   "outputs": [
    {
     "data": {
      "text/plain": [
       "3"
      ]
     },
     "execution_count": 14,
     "metadata": {},
     "output_type": "execute_result"
    }
   ],
   "source": [
    "len(my_set2)"
   ]
  },
  {
   "cell_type": "code",
   "execution_count": 16,
   "id": "25f8a95d-70cc-4466-93ea-8e7e72de9046",
   "metadata": {},
   "outputs": [
    {
     "data": {
      "text/plain": [
       "2"
      ]
     },
     "execution_count": 16,
     "metadata": {},
     "output_type": "execute_result"
    }
   ],
   "source": [
    "len(my_set)"
   ]
  },
  {
   "cell_type": "code",
   "execution_count": 17,
   "id": "66e9f8fb-2c48-44f0-987f-871613e15b68",
   "metadata": {},
   "outputs": [
    {
     "data": {
      "text/plain": [
       "True"
      ]
     },
     "execution_count": 17,
     "metadata": {},
     "output_type": "execute_result"
    }
   ],
   "source": [
    "[1,2] == [1,2]"
   ]
  },
  {
   "cell_type": "code",
   "execution_count": 18,
   "id": "a3f04c03-211f-44b2-bcb6-ad76aaf1e571",
   "metadata": {},
   "outputs": [
    {
     "data": {
      "text/plain": [
       "False"
      ]
     },
     "execution_count": 18,
     "metadata": {},
     "output_type": "execute_result"
    }
   ],
   "source": [
    "[1,2] == [2,1]"
   ]
  },
  {
   "cell_type": "code",
   "execution_count": 19,
   "id": "fe2611a6-a3a0-4330-af36-e37f03a29805",
   "metadata": {},
   "outputs": [
    {
     "data": {
      "text/plain": [
       "True"
      ]
     },
     "execution_count": 19,
     "metadata": {},
     "output_type": "execute_result"
    }
   ],
   "source": [
    "{1,2} =={2,1}"
   ]
  },
  {
   "cell_type": "code",
   "execution_count": 21,
   "id": "b631fbb4-4b8a-40d5-80f8-46a376854f14",
   "metadata": {},
   "outputs": [
    {
     "data": {
      "text/plain": [
       "True"
      ]
     },
     "execution_count": 21,
     "metadata": {},
     "output_type": "execute_result"
    }
   ],
   "source": [
    "#folloed set theory\n",
    "{1,2} == {2 , 1 , 1 ,1}"
   ]
  },
  {
   "cell_type": "markdown",
   "id": "271a6538-1732-4523-b215-02bde76f6977",
   "metadata": {},
   "source": [
    "# Tuples"
   ]
  },
  {
   "cell_type": "code",
   "execution_count": null,
   "id": "88c9bc45-ae67-4e37-8613-dbbefc3d0739",
   "metadata": {},
   "outputs": [],
   "source": []
  }
 ],
 "metadata": {
  "kernelspec": {
   "display_name": "Python 3 (ipykernel)",
   "language": "python",
   "name": "python3"
  },
  "language_info": {
   "codemirror_mode": {
    "name": "ipython",
    "version": 3
   },
   "file_extension": ".py",
   "mimetype": "text/x-python",
   "name": "python",
   "nbconvert_exporter": "python",
   "pygments_lexer": "ipython3",
   "version": "3.12.3"
  }
 },
 "nbformat": 4,
 "nbformat_minor": 5
}
