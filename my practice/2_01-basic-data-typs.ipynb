{
 "cells": [
  {
   "cell_type": "markdown",
   "id": "13137036-032d-4ef6-bbc7-303471211884",
   "metadata": {},
   "source": [
    "# Basic Dta Types\n",
    "\n",
    "## Defining a Variable"
   ]
  },
  {
   "cell_type": "code",
   "execution_count": 1,
   "id": "8abd0bb9-9e15-44df-bfde-9d61d0b52120",
   "metadata": {},
   "outputs": [],
   "source": [
    " x = 5 "
   ]
  },
  {
   "cell_type": "code",
   "execution_count": 2,
   "id": "2ffc3f92-d16a-4843-aca5-57f6427b9d81",
   "metadata": {},
   "outputs": [
    {
     "name": "stdout",
     "output_type": "stream",
     "text": [
      "5\n"
     ]
    }
   ],
   "source": [
    "print(x)"
   ]
  },
  {
   "cell_type": "code",
   "execution_count": 3,
   "id": "00444ac2-8872-4695-bf8d-a3123e77aac5",
   "metadata": {},
   "outputs": [],
   "source": [
    "name = 'anik'"
   ]
  },
  {
   "cell_type": "code",
   "execution_count": 4,
   "id": "464f961c-363f-4473-a817-0d2b2ab978da",
   "metadata": {},
   "outputs": [
    {
     "data": {
      "text/plain": [
       "str"
      ]
     },
     "execution_count": 4,
     "metadata": {},
     "output_type": "execute_result"
    }
   ],
   "source": [
    "type(name)"
   ]
  },
  {
   "cell_type": "code",
   "execution_count": 5,
   "id": "a965e9f9-c44e-4330-b268-c1b5d3f41459",
   "metadata": {},
   "outputs": [
    {
     "data": {
      "text/plain": [
       "int"
      ]
     },
     "execution_count": 5,
     "metadata": {},
     "output_type": "execute_result"
    }
   ],
   "source": [
    "type(x)"
   ]
  },
  {
   "cell_type": "markdown",
   "id": "ee438b3f-590d-4cf8-a8bd-8edd390f7860",
   "metadata": {},
   "source": [
    "# Numbers"
   ]
  },
  {
   "cell_type": "code",
   "execution_count": 6,
   "id": "f1012133-435d-498f-9ed9-98ab6d24f767",
   "metadata": {},
   "outputs": [
    {
     "data": {
      "text/plain": [
       "float"
      ]
     },
     "execution_count": 6,
     "metadata": {},
     "output_type": "execute_result"
    }
   ],
   "source": [
    "type(1.5)"
   ]
  },
  {
   "cell_type": "code",
   "execution_count": 7,
   "id": "b4e5920d-6fb6-4fd0-a673-28faac11b316",
   "metadata": {},
   "outputs": [
    {
     "data": {
      "text/plain": [
       "complex"
      ]
     },
     "execution_count": 7,
     "metadata": {},
     "output_type": "execute_result"
    }
   ],
   "source": [
    "type(2j)"
   ]
  },
  {
   "cell_type": "code",
   "execution_count": 8,
   "id": "995023b3-f9ba-45f3-ac0a-32e0af13ddf2",
   "metadata": {},
   "outputs": [
    {
     "data": {
      "text/plain": [
       "(-1+0j)"
      ]
     },
     "execution_count": 8,
     "metadata": {},
     "output_type": "execute_result"
    }
   ],
   "source": [
    "1j*1j"
   ]
  },
  {
   "cell_type": "markdown",
   "id": "24701d27-7b94-45d4-9a9c-59b5a9eb3d9d",
   "metadata": {},
   "source": [
    "# Strings"
   ]
  },
  {
   "cell_type": "code",
   "execution_count": 9,
   "id": "7b8aee1f-30be-460e-9819-48cf26408006",
   "metadata": {},
   "outputs": [
    {
     "data": {
      "text/plain": [
       "'string 1string 2'"
      ]
     },
     "execution_count": 9,
     "metadata": {},
     "output_type": "execute_result"
    }
   ],
   "source": [
    "'string 1' + 'string 2'"
   ]
  },
  {
   "cell_type": "code",
   "execution_count": 11,
   "id": "dd25bd6f-591f-4d25-9db6-9c29014db5b3",
   "metadata": {},
   "outputs": [
    {
     "data": {
      "text/plain": [
       "'11'"
      ]
     },
     "execution_count": 11,
     "metadata": {},
     "output_type": "execute_result"
    }
   ],
   "source": [
    "'1' + '1'"
   ]
  },
  {
   "cell_type": "code",
   "execution_count": 12,
   "id": "fbc0ea62-c9aa-49c2-b63b-8493644d037f",
   "metadata": {},
   "outputs": [
    {
     "ename": "TypeError",
     "evalue": "can only concatenate str (not \"int\") to str",
     "output_type": "error",
     "traceback": [
      "\u001b[1;31m---------------------------------------------------------------------------\u001b[0m",
      "\u001b[1;31mTypeError\u001b[0m                                 Traceback (most recent call last)",
      "Cell \u001b[1;32mIn[12], line 1\u001b[0m\n\u001b[1;32m----> 1\u001b[0m \u001b[38;5;124;43m'\u001b[39;49m\u001b[38;5;124;43m1\u001b[39;49m\u001b[38;5;124;43m'\u001b[39;49m\u001b[43m \u001b[49m\u001b[38;5;241;43m+\u001b[39;49m\u001b[43m \u001b[49m\u001b[38;5;241;43m1\u001b[39;49m\n",
      "\u001b[1;31mTypeError\u001b[0m: can only concatenate str (not \"int\") to str"
     ]
    }
   ],
   "source": [
    "'1' + 1"
   ]
  },
  {
   "cell_type": "markdown",
   "id": "4bf09e9c-2380-46d2-8c99-5220b1988f65",
   "metadata": {},
   "source": [
    "# Booleans "
   ]
  },
  {
   "cell_type": "code",
   "execution_count": 13,
   "id": "7e05aad5-6b32-4ea8-8e5d-dbbcbc1ac187",
   "metadata": {},
   "outputs": [
    {
     "data": {
      "text/plain": [
       "True"
      ]
     },
     "execution_count": 13,
     "metadata": {},
     "output_type": "execute_result"
    }
   ],
   "source": [
    "True"
   ]
  },
  {
   "cell_type": "code",
   "execution_count": 14,
   "id": "b00b770a-d78b-4c46-a771-dd251719807a",
   "metadata": {},
   "outputs": [
    {
     "data": {
      "text/plain": [
       "False"
      ]
     },
     "execution_count": 14,
     "metadata": {},
     "output_type": "execute_result"
    }
   ],
   "source": [
    "False"
   ]
  },
  {
   "cell_type": "code",
   "execution_count": null,
   "id": "3f03a9ec-437b-485b-925e-584ee8fc7baa",
   "metadata": {},
   "outputs": [],
   "source": [
    "true == True"
   ]
  }
 ],
 "metadata": {
  "kernelspec": {
   "display_name": "Python 3 (ipykernel)",
   "language": "python",
   "name": "python3"
  },
  "language_info": {
   "codemirror_mode": {
    "name": "ipython",
    "version": 3
   },
   "file_extension": ".py",
   "mimetype": "text/x-python",
   "name": "python",
   "nbconvert_exporter": "python",
   "pygments_lexer": "ipython3",
   "version": "3.12.3"
  }
 },
 "nbformat": 4,
 "nbformat_minor": 5
}
